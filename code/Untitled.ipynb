{
 "cells": [
  {
   "cell_type": "code",
   "execution_count": null,
   "metadata": {},
   "outputs": [],
   "source": [
    "\n",
    "import os\n",
    "import numpy as np\n",
    "import nibabel as nib\n",
    "import nilearn as ni\n",
    "import nilearn.plotting\n",
    "import scientific_colormaps\n",
    "\n",
    "fn = dict()\n",
    "fn['activity'] = os.path.join('/home/predatt/benehi/projects/fmri_sequence/local/GLM/sub-04_run-all','spmT_0001.nii')\n",
    "fn['condition'] = os.path.join('/home/predatt/benehi/projects/fmri_sequence/local/GLM/sub-04_run-all','spmT_0002.nii')\n",
    "fn['contrast'] = os.path.join('/home/predatt/benehi/projects/fmri_sequence/local/GLM/sub-04_run-all','spmT_0003.nii')\n",
    "fn['interact'] = os.path.join('/home/predatt/benehi/projects/fmri_sequence/local/GLM/sub-04_run-all','spmT_0004.nii')\n",
    "\n",
    "img = {k:nib.load(f) for k,f in fn.items()}\n",
    "\n",
    "ni.plotting.plot_stat_map(img['activity'],cmap=scientific_colormaps.load_cmap('berlin'))\n",
    "\n",
    "\n",
    "\n",
    "bidspath = '/project/3018028.04/benehi/sequence/data/pilot/bids/derivates/preprocessing/sub-{:02d}/ses-{:02d}'.format(subject,session)\n",
    "meanfun = os.path.join(bidspath,'func','sub-{:02d}_ses-{:02d}_task-sequential_desc-occipitalcropMeanBias_bold.nii'.format(subject,session))\n",
    "img['meanfun'] = nib.load(meanfun)\n",
    "\n",
    "\n",
    "ni.plotting.plot_stat_map(img['activity'],cmap=scientific_colormaps.load_cmap('berlin'),bg_img=img['meanfun'],threshold=2)"
   ]
  }
 ],
 "metadata": {
  "kernelspec": {
   "display_name": "Python 3",
   "language": "python",
   "name": "python3"
  },
  "language_info": {
   "codemirror_mode": {
    "name": "ipython",
    "version": 3
   },
   "file_extension": ".py",
   "mimetype": "text/x-python",
   "name": "python",
   "nbconvert_exporter": "python",
   "pygments_lexer": "ipython3",
   "version": "3.7.3"
  }
 },
 "nbformat": 4,
 "nbformat_minor": 4
}
